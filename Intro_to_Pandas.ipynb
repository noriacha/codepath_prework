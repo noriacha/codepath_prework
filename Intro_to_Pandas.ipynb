{
  "nbformat": 4,
  "nbformat_minor": 0,
  "metadata": {
    "colab": {
      "provenance": [],
      "authorship_tag": "ABX9TyOlTDG0Dhcoy+AIBwWzliTU",
      "include_colab_link": true
    },
    "kernelspec": {
      "name": "python3",
      "display_name": "Python 3"
    },
    "language_info": {
      "name": "python"
    }
  },
  "cells": [
    {
      "cell_type": "markdown",
      "metadata": {
        "id": "view-in-github",
        "colab_type": "text"
      },
      "source": [
        "<a href=\"https://colab.research.google.com/github/noriacha/codepath_prework/blob/main/Intro_to_Pandas.ipynb\" target=\"_parent\"><img src=\"https://colab.research.google.com/assets/colab-badge.svg\" alt=\"Open In Colab\"/></a>"
      ]
    },
    {
      "cell_type": "code",
      "execution_count": 29,
      "metadata": {
        "colab": {
          "base_uri": "https://localhost:8080/"
        },
        "id": "iTzf7SIYvbMZ",
        "outputId": "fd461353-a8b3-4419-899c-b2aa7b0cab02"
      },
      "outputs": [
        {
          "output_type": "stream",
          "name": "stdout",
          "text": [
            "      Name  Age Cute   Country\n",
            "2  Charlie   70   no  Nigerian\n"
          ]
        }
      ],
      "source": [
        "import pandas as pd  # Import Pandas\n",
        "\n",
        "# Create a small dataset\n",
        "data = {\"Name\": [\"Sami\", \"Bob\", \"Charlie\"], \"Age\": [22,0 , 70], \"Cute\": [\"yes\", \"no\", \"no\"]}\n",
        "df = pd.DataFrame(data)  # Convert dictionary to DataFrame  -> df is just the container that holds the table\n",
        "df[\"Country\"] = [\"Ethiopian\", \"USA\", \"Nigerian\"]\n",
        "sorted_df = df.sort_values(by='Name')\n",
        "removed_ages = df[df[\"Age\"] > 25]\n",
        "df.dropna(inplace=True)\n",
        "print(removed_ages)  # Display the dataset"
      ]
    },
    {
      "cell_type": "code",
      "source": [
        "import pandas as pd\n",
        "\n",
        "from google.colab import files\n",
        "uploaded = files.upload()\n",
        "\n",
        "df = pd.read_csv('csvFile.csv')\n",
        "\n",
        "#DataFrame Summary\n",
        "print(\"This is the DataFrame\")\n",
        "print(df.head)"
      ],
      "metadata": {
        "colab": {
          "base_uri": "https://localhost:8080/",
          "height": 197
        },
        "id": "ke0aAJ-J3qzv",
        "outputId": "4c29568d-0dac-4b45-9fba-b72d4a9f5578"
      },
      "execution_count": 36,
      "outputs": [
        {
          "output_type": "display_data",
          "data": {
            "text/plain": [
              "<IPython.core.display.HTML object>"
            ],
            "text/html": [
              "\n",
              "     <input type=\"file\" id=\"files-aec48769-3c4b-4882-84ea-a18369fc7eba\" name=\"files[]\" multiple disabled\n",
              "        style=\"border:none\" />\n",
              "     <output id=\"result-aec48769-3c4b-4882-84ea-a18369fc7eba\">\n",
              "      Upload widget is only available when the cell has been executed in the\n",
              "      current browser session. Please rerun this cell to enable.\n",
              "      </output>\n",
              "      <script>// Copyright 2017 Google LLC\n",
              "//\n",
              "// Licensed under the Apache License, Version 2.0 (the \"License\");\n",
              "// you may not use this file except in compliance with the License.\n",
              "// You may obtain a copy of the License at\n",
              "//\n",
              "//      http://www.apache.org/licenses/LICENSE-2.0\n",
              "//\n",
              "// Unless required by applicable law or agreed to in writing, software\n",
              "// distributed under the License is distributed on an \"AS IS\" BASIS,\n",
              "// WITHOUT WARRANTIES OR CONDITIONS OF ANY KIND, either express or implied.\n",
              "// See the License for the specific language governing permissions and\n",
              "// limitations under the License.\n",
              "\n",
              "/**\n",
              " * @fileoverview Helpers for google.colab Python module.\n",
              " */\n",
              "(function(scope) {\n",
              "function span(text, styleAttributes = {}) {\n",
              "  const element = document.createElement('span');\n",
              "  element.textContent = text;\n",
              "  for (const key of Object.keys(styleAttributes)) {\n",
              "    element.style[key] = styleAttributes[key];\n",
              "  }\n",
              "  return element;\n",
              "}\n",
              "\n",
              "// Max number of bytes which will be uploaded at a time.\n",
              "const MAX_PAYLOAD_SIZE = 100 * 1024;\n",
              "\n",
              "function _uploadFiles(inputId, outputId) {\n",
              "  const steps = uploadFilesStep(inputId, outputId);\n",
              "  const outputElement = document.getElementById(outputId);\n",
              "  // Cache steps on the outputElement to make it available for the next call\n",
              "  // to uploadFilesContinue from Python.\n",
              "  outputElement.steps = steps;\n",
              "\n",
              "  return _uploadFilesContinue(outputId);\n",
              "}\n",
              "\n",
              "// This is roughly an async generator (not supported in the browser yet),\n",
              "// where there are multiple asynchronous steps and the Python side is going\n",
              "// to poll for completion of each step.\n",
              "// This uses a Promise to block the python side on completion of each step,\n",
              "// then passes the result of the previous step as the input to the next step.\n",
              "function _uploadFilesContinue(outputId) {\n",
              "  const outputElement = document.getElementById(outputId);\n",
              "  const steps = outputElement.steps;\n",
              "\n",
              "  const next = steps.next(outputElement.lastPromiseValue);\n",
              "  return Promise.resolve(next.value.promise).then((value) => {\n",
              "    // Cache the last promise value to make it available to the next\n",
              "    // step of the generator.\n",
              "    outputElement.lastPromiseValue = value;\n",
              "    return next.value.response;\n",
              "  });\n",
              "}\n",
              "\n",
              "/**\n",
              " * Generator function which is called between each async step of the upload\n",
              " * process.\n",
              " * @param {string} inputId Element ID of the input file picker element.\n",
              " * @param {string} outputId Element ID of the output display.\n",
              " * @return {!Iterable<!Object>} Iterable of next steps.\n",
              " */\n",
              "function* uploadFilesStep(inputId, outputId) {\n",
              "  const inputElement = document.getElementById(inputId);\n",
              "  inputElement.disabled = false;\n",
              "\n",
              "  const outputElement = document.getElementById(outputId);\n",
              "  outputElement.innerHTML = '';\n",
              "\n",
              "  const pickedPromise = new Promise((resolve) => {\n",
              "    inputElement.addEventListener('change', (e) => {\n",
              "      resolve(e.target.files);\n",
              "    });\n",
              "  });\n",
              "\n",
              "  const cancel = document.createElement('button');\n",
              "  inputElement.parentElement.appendChild(cancel);\n",
              "  cancel.textContent = 'Cancel upload';\n",
              "  const cancelPromise = new Promise((resolve) => {\n",
              "    cancel.onclick = () => {\n",
              "      resolve(null);\n",
              "    };\n",
              "  });\n",
              "\n",
              "  // Wait for the user to pick the files.\n",
              "  const files = yield {\n",
              "    promise: Promise.race([pickedPromise, cancelPromise]),\n",
              "    response: {\n",
              "      action: 'starting',\n",
              "    }\n",
              "  };\n",
              "\n",
              "  cancel.remove();\n",
              "\n",
              "  // Disable the input element since further picks are not allowed.\n",
              "  inputElement.disabled = true;\n",
              "\n",
              "  if (!files) {\n",
              "    return {\n",
              "      response: {\n",
              "        action: 'complete',\n",
              "      }\n",
              "    };\n",
              "  }\n",
              "\n",
              "  for (const file of files) {\n",
              "    const li = document.createElement('li');\n",
              "    li.append(span(file.name, {fontWeight: 'bold'}));\n",
              "    li.append(span(\n",
              "        `(${file.type || 'n/a'}) - ${file.size} bytes, ` +\n",
              "        `last modified: ${\n",
              "            file.lastModifiedDate ? file.lastModifiedDate.toLocaleDateString() :\n",
              "                                    'n/a'} - `));\n",
              "    const percent = span('0% done');\n",
              "    li.appendChild(percent);\n",
              "\n",
              "    outputElement.appendChild(li);\n",
              "\n",
              "    const fileDataPromise = new Promise((resolve) => {\n",
              "      const reader = new FileReader();\n",
              "      reader.onload = (e) => {\n",
              "        resolve(e.target.result);\n",
              "      };\n",
              "      reader.readAsArrayBuffer(file);\n",
              "    });\n",
              "    // Wait for the data to be ready.\n",
              "    let fileData = yield {\n",
              "      promise: fileDataPromise,\n",
              "      response: {\n",
              "        action: 'continue',\n",
              "      }\n",
              "    };\n",
              "\n",
              "    // Use a chunked sending to avoid message size limits. See b/62115660.\n",
              "    let position = 0;\n",
              "    do {\n",
              "      const length = Math.min(fileData.byteLength - position, MAX_PAYLOAD_SIZE);\n",
              "      const chunk = new Uint8Array(fileData, position, length);\n",
              "      position += length;\n",
              "\n",
              "      const base64 = btoa(String.fromCharCode.apply(null, chunk));\n",
              "      yield {\n",
              "        response: {\n",
              "          action: 'append',\n",
              "          file: file.name,\n",
              "          data: base64,\n",
              "        },\n",
              "      };\n",
              "\n",
              "      let percentDone = fileData.byteLength === 0 ?\n",
              "          100 :\n",
              "          Math.round((position / fileData.byteLength) * 100);\n",
              "      percent.textContent = `${percentDone}% done`;\n",
              "\n",
              "    } while (position < fileData.byteLength);\n",
              "  }\n",
              "\n",
              "  // All done.\n",
              "  yield {\n",
              "    response: {\n",
              "      action: 'complete',\n",
              "    }\n",
              "  };\n",
              "}\n",
              "\n",
              "scope.google = scope.google || {};\n",
              "scope.google.colab = scope.google.colab || {};\n",
              "scope.google.colab._files = {\n",
              "  _uploadFiles,\n",
              "  _uploadFilesContinue,\n",
              "};\n",
              "})(self);\n",
              "</script> "
            ]
          },
          "metadata": {}
        },
        {
          "output_type": "stream",
          "name": "stdout",
          "text": [
            "Saving csvFile.csv to csvFile (4).csv\n",
            "This is the DataFrame\n",
            "<bound method NDFrame.head of       Name  Age Available  Annoying  Unnamed: 4\n",
            "0    Sammy   22        yes       no         NaN\n",
            "1  Sabrina   18         no   little         NaN\n",
            "2   Timage   22        yes       no         NaN\n",
            "3   Yasmin   25         no   little         NaN>\n"
          ]
        }
      ]
    },
    {
      "cell_type": "code",
      "source": [
        "\n",
        "# Example: Detecting and handling missing values\n",
        "import pandas as pd\n",
        "\n",
        "# Create a sample DataFrame\n",
        "data = {\n",
        "    'Movie': ['Inception', 'Avatar', 'Titanic', 'Joker'],\n",
        "    'Rating': [8.8, None, 7.8, 8.5],\n",
        "    'Year': [2010, 2009, None, 2019]\n",
        "}\n",
        "df = pd.DataFrame(data)\n",
        "\n",
        "# Detect missing values\n",
        "print(df.isnull())\n",
        "\n",
        "\n",
        "# Fill missing values with an average or specific value\n",
        "df_filled = df.fillna({'Rating': df['Rating'].mean(), 'Year': 'Unknown'})\n",
        "\n",
        "# Drop rows with any missing values\n",
        "df_dropped = df.dropna()\n",
        "\n",
        "print(\"DataFrame after filling missing values:\\n\", df_filled)\n",
        "print(\"DataFrame after dropping rows with missing values:\\n\", df_dropped)\n",
        "\n"
      ],
      "metadata": {
        "colab": {
          "base_uri": "https://localhost:8080/"
        },
        "id": "9exL-Ezg6cYZ",
        "outputId": "4a38d530-c79b-485f-88f2-ba461898dc7f"
      },
      "execution_count": 38,
      "outputs": [
        {
          "output_type": "stream",
          "name": "stdout",
          "text": [
            "   Movie  Rating   Year\n",
            "0  False   False  False\n",
            "1  False    True  False\n",
            "2  False   False   True\n",
            "3  False   False  False\n",
            "DataFrame after filling missing values:\n",
            "        Movie    Rating     Year\n",
            "0  Inception  8.800000   2010.0\n",
            "1     Avatar  8.366667   2009.0\n",
            "2    Titanic  7.800000  Unknown\n",
            "3      Joker  8.500000   2019.0\n",
            "DataFrame after dropping rows with missing values:\n",
            "        Movie  Rating    Year\n",
            "0  Inception     8.8  2010.0\n",
            "3      Joker     8.5  2019.0\n"
          ]
        }
      ]
    },
    {
      "cell_type": "code",
      "source": [
        "# Example: Identifying and removing duplicate rows\n",
        "data = {\n",
        "    'Movie': ['Inception', 'Avatar', 'Inception', 'Joker'],\n",
        "    'Rating': [8.8, 7.8, 8.8, 8.5],\n",
        "    'Year': [2010, 2009, 2010, None]\n",
        "}\n",
        "\n",
        "df = pd.DataFrame(data)\n",
        "\n",
        "duplicates = df.duplicated() #simply shows the duplicated items\n",
        "print(duplicates)\n",
        "\n",
        "df_duplicates = df.drop_duplicates() #removes them\n",
        "print(df_duplicates)\n",
        "\n",
        "# Correcting data types\n",
        "df['Year'] = df['Year'].astype(str)\n",
        "\n",
        "print(\"DataFrame after converting 'Year' to string:\\n\", df)"
      ],
      "metadata": {
        "colab": {
          "base_uri": "https://localhost:8080/"
        },
        "id": "3rMS7rPv66Us",
        "outputId": "9dd5f9f5-607e-467a-d2e5-a713042fb5b4"
      },
      "execution_count": 51,
      "outputs": [
        {
          "output_type": "stream",
          "name": "stdout",
          "text": [
            "0    False\n",
            "1    False\n",
            "2     True\n",
            "3    False\n",
            "dtype: bool\n",
            "       Movie  Rating    Year\n",
            "0  Inception     8.8  2010.0\n",
            "1     Avatar     7.8  2009.0\n",
            "3      Joker     8.5     NaN\n",
            "DataFrame after converting 'Year' to string:\n",
            "        Movie  Rating    Year\n",
            "0  Inception     8.8  2010.0\n",
            "1     Avatar     7.8  2009.0\n",
            "2  Inception     8.8  2010.0\n",
            "3      Joker     8.5     nan\n"
          ]
        }
      ]
    }
  ]
}